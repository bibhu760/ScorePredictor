{
 "cells": [
  {
   "cell_type": "code",
   "execution_count": 338,
   "id": "799c183d-0943-43c9-b668-87632a56982a",
   "metadata": {},
   "outputs": [],
   "source": [
    "#libraries\n",
    "import pickle\n",
    "import pandas as pd\n",
    "import numpy as np"
   ]
  },
  {
   "cell_type": "code",
   "execution_count": 339,
   "id": "6b1f7ad2-c6c0-4406-bfa5-08ea590aad1c",
   "metadata": {},
   "outputs": [],
   "source": [
    "#loading the file\n",
    "df=pickle.load(open('output.pkl','rb'))"
   ]
  },
  {
   "cell_type": "code",
   "execution_count": 340,
   "id": "1420e6b1-5c8b-4dfe-9bcb-e23061e6d0b0",
   "metadata": {},
   "outputs": [
    {
     "data": {
      "text/plain": [
       "match_id               0\n",
       "batting_team           0\n",
       "bowling_team           0\n",
       "ball                   0\n",
       "runs                   0\n",
       "player_dismissed       0\n",
       "city                7046\n",
       "venue                  0\n",
       "dtype: int64"
      ]
     },
     "execution_count": 340,
     "metadata": {},
     "output_type": "execute_result"
    }
   ],
   "source": [
    "df.isnull().sum()"
   ]
  },
  {
   "cell_type": "code",
   "execution_count": 341,
   "id": "028e29f8-d7ea-4ddd-94c4-03df8d559626",
   "metadata": {},
   "outputs": [
    {
     "data": {
      "text/plain": [
       "venue\n",
       "Dubai International Cricket Stadium        3295\n",
       "Melbourne Cricket Ground                   1203\n",
       "Sydney Cricket Ground                       749\n",
       "Pallekele International Cricket Stadium     741\n",
       "Adelaide Oval                               373\n",
       "Harare Sports Club                          372\n",
       "Sharjah Cricket Stadium                     249\n",
       "Carrara Oval                                 64\n",
       "Name: count, dtype: int64"
      ]
     },
     "execution_count": 341,
     "metadata": {},
     "output_type": "execute_result"
    }
   ],
   "source": [
    "#each null in city column has value in respective venue column\n",
    "df[df['city'].isnull()]['venue'].value_counts()"
   ]
  },
  {
   "cell_type": "code",
   "execution_count": 342,
   "id": "50007b52-9ab5-4c0e-aa2a-3804bfb53ef3",
   "metadata": {},
   "outputs": [],
   "source": [
    "cities=np.where(df['city'].isnull(),df['venue'].str.split().apply(lambda x:x[0]),df['city'])"
   ]
  },
  {
   "cell_type": "code",
   "execution_count": 343,
   "id": "3e8682e6-ac73-44a6-b34a-03f72b24b7e9",
   "metadata": {},
   "outputs": [],
   "source": [
    "df['city']=cities"
   ]
  },
  {
   "cell_type": "code",
   "execution_count": 344,
   "id": "b7c04583-cb8a-4ada-8645-9c55ccebef62",
   "metadata": {},
   "outputs": [
    {
     "data": {
      "text/plain": [
       "match_id            0\n",
       "batting_team        0\n",
       "bowling_team        0\n",
       "ball                0\n",
       "runs                0\n",
       "player_dismissed    0\n",
       "city                0\n",
       "venue               0\n",
       "dtype: int64"
      ]
     },
     "execution_count": 344,
     "metadata": {},
     "output_type": "execute_result"
    }
   ],
   "source": [
    "df.isnull().sum()"
   ]
  },
  {
   "cell_type": "code",
   "execution_count": 345,
   "id": "f9d87923-cdc4-4714-9f5e-e8a552c10790",
   "metadata": {},
   "outputs": [],
   "source": [
    "df.drop(columns=['venue'],inplace=True)"
   ]
  },
  {
   "cell_type": "code",
   "execution_count": 346,
   "id": "62d57b12-56ae-4e12-be55-eb8b5bd01853",
   "metadata": {},
   "outputs": [],
   "source": [
    "#filtering only city where max 5 matches were played\n",
    "eligible_cities=df['city'].value_counts()[df['city'].value_counts()>600].index.to_list()"
   ]
  },
  {
   "cell_type": "code",
   "execution_count": 347,
   "id": "4fcf7221-8008-4b3b-a9e0-f41cf2dc53a2",
   "metadata": {},
   "outputs": [],
   "source": [
    "df=df[df['city'].isin(eligible_cities)]"
   ]
  },
  {
   "cell_type": "code",
   "execution_count": 348,
   "id": "8ffa5338-482f-40b8-86fb-e32f579d3380",
   "metadata": {},
   "outputs": [],
   "source": [
    "#finding the current score\n",
    "df['Current_score']=df.groupby('match_id')['runs'].cumsum()"
   ]
  },
  {
   "cell_type": "code",
   "execution_count": 349,
   "id": "93722fff-693f-46cd-bcf1-aac66ba00aaa",
   "metadata": {},
   "outputs": [],
   "source": [
    "#generating ball and over feature\n",
    "df['ball_no']=df['ball'].apply(lambda x:str(x).split('.')[1])\n",
    "df['over']=df['ball'].apply(lambda x:str(x).split('.')[0])"
   ]
  },
  {
   "cell_type": "code",
   "execution_count": 350,
   "id": "c0847008-05ee-4146-b445-32ce9b529453",
   "metadata": {},
   "outputs": [],
   "source": [
    "df['balls_bowled']=(df['over'].astype('int')*6)+(df['ball_no'].astype('int'))"
   ]
  },
  {
   "cell_type": "code",
   "execution_count": 351,
   "id": "baa71f35-f75e-4a68-9660-36c70fd4ee91",
   "metadata": {},
   "outputs": [],
   "source": [
    "df['balls_left']=120-df['balls_bowled']\n",
    "df['balls_left']=df['balls_left'].apply(lambda x:0 if x<0 else x)"
   ]
  },
  {
   "cell_type": "code",
   "execution_count": 353,
   "id": "5263ca34-bfad-491a-a75d-5f2dfdb9a55c",
   "metadata": {},
   "outputs": [],
   "source": [
    "# wicket left\n",
    "df['player_dismissed']=df['player_dismissed'].apply(lambda x:0 if x=='0' else 1)\n",
    "df['player_dismissed']=df['player_dismissed'].astype('int')\n",
    "df['player_dismissed']=df.groupby('match_id')['player_dismissed'].cumsum()\n",
    "df['wickets_left']=10-df['player_dismissed']"
   ]
  },
  {
   "cell_type": "code",
   "execution_count": 354,
   "id": "f87dc2ac-0817-44d1-ac12-44443ffa4b66",
   "metadata": {},
   "outputs": [],
   "source": [
    "#current run rate\n",
    "df['curr']=(df['Current_score']*6)/df['balls_bowled']"
   ]
  },
  {
   "cell_type": "code",
   "execution_count": 355,
   "id": "00947703-bebb-46a5-a8ff-50eae9bbdb71",
   "metadata": {},
   "outputs": [],
   "source": [
    "#last 5 over run\n",
    "groups=df.groupby('match_id')\n",
    "\n",
    "match_ids=df['match_id'].unique()\n",
    "last_five=[]\n",
    "for id in match_ids:\n",
    "    last_five.extend(groups.get_group(id).rolling(window=30)['runs'].sum().values.tolist())"
   ]
  },
  {
   "cell_type": "code",
   "execution_count": 356,
   "id": "207839be-a603-4b2b-8601-e219f6a5f0a5",
   "metadata": {},
   "outputs": [],
   "source": [
    "df['last_five']=last_five"
   ]
  },
  {
   "cell_type": "code",
   "execution_count": 357,
   "id": "c8b90fcf-14e7-4ae1-a6fa-649dc1f766c3",
   "metadata": {},
   "outputs": [],
   "source": [
    "#final score\n",
    "final_df=df.groupby('match_id')['runs'].sum().reset_index().merge(df,on='match_id')"
   ]
  },
  {
   "cell_type": "code",
   "execution_count": 359,
   "id": "e880198e-3dc6-4183-8cf6-33a1f84bc281",
   "metadata": {},
   "outputs": [
    {
     "data": {
      "text/html": [
       "<div>\n",
       "<style scoped>\n",
       "    .dataframe tbody tr th:only-of-type {\n",
       "        vertical-align: middle;\n",
       "    }\n",
       "\n",
       "    .dataframe tbody tr th {\n",
       "        vertical-align: top;\n",
       "    }\n",
       "\n",
       "    .dataframe thead th {\n",
       "        text-align: right;\n",
       "    }\n",
       "</style>\n",
       "<table border=\"1\" class=\"dataframe\">\n",
       "  <thead>\n",
       "    <tr style=\"text-align: right;\">\n",
       "      <th></th>\n",
       "      <th>match_id</th>\n",
       "      <th>runs_x</th>\n",
       "      <th>batting_team</th>\n",
       "      <th>bowling_team</th>\n",
       "      <th>ball</th>\n",
       "      <th>runs_y</th>\n",
       "      <th>player_dismissed</th>\n",
       "      <th>city</th>\n",
       "      <th>Current_score</th>\n",
       "      <th>ball_no</th>\n",
       "      <th>over</th>\n",
       "      <th>balls_bowled</th>\n",
       "      <th>balls_left</th>\n",
       "      <th>wickets_left</th>\n",
       "      <th>curr</th>\n",
       "      <th>last_five</th>\n",
       "    </tr>\n",
       "  </thead>\n",
       "  <tbody>\n",
       "    <tr>\n",
       "      <th>0</th>\n",
       "      <td>22</td>\n",
       "      <td>195</td>\n",
       "      <td>New Zealand</td>\n",
       "      <td>Bangladesh</td>\n",
       "      <td>0.1</td>\n",
       "      <td>0</td>\n",
       "      <td>1</td>\n",
       "      <td>Mount Maunganui</td>\n",
       "      <td>0</td>\n",
       "      <td>1</td>\n",
       "      <td>0</td>\n",
       "      <td>1</td>\n",
       "      <td>119</td>\n",
       "      <td>9</td>\n",
       "      <td>0.0</td>\n",
       "      <td>NaN</td>\n",
       "    </tr>\n",
       "    <tr>\n",
       "      <th>1</th>\n",
       "      <td>22</td>\n",
       "      <td>195</td>\n",
       "      <td>New Zealand</td>\n",
       "      <td>Bangladesh</td>\n",
       "      <td>0.2</td>\n",
       "      <td>3</td>\n",
       "      <td>1</td>\n",
       "      <td>Mount Maunganui</td>\n",
       "      <td>3</td>\n",
       "      <td>2</td>\n",
       "      <td>0</td>\n",
       "      <td>2</td>\n",
       "      <td>118</td>\n",
       "      <td>9</td>\n",
       "      <td>9.0</td>\n",
       "      <td>NaN</td>\n",
       "    </tr>\n",
       "    <tr>\n",
       "      <th>2</th>\n",
       "      <td>22</td>\n",
       "      <td>195</td>\n",
       "      <td>New Zealand</td>\n",
       "      <td>Bangladesh</td>\n",
       "      <td>0.3</td>\n",
       "      <td>1</td>\n",
       "      <td>1</td>\n",
       "      <td>Mount Maunganui</td>\n",
       "      <td>4</td>\n",
       "      <td>3</td>\n",
       "      <td>0</td>\n",
       "      <td>3</td>\n",
       "      <td>117</td>\n",
       "      <td>9</td>\n",
       "      <td>8.0</td>\n",
       "      <td>NaN</td>\n",
       "    </tr>\n",
       "    <tr>\n",
       "      <th>3</th>\n",
       "      <td>22</td>\n",
       "      <td>195</td>\n",
       "      <td>New Zealand</td>\n",
       "      <td>Bangladesh</td>\n",
       "      <td>0.4</td>\n",
       "      <td>0</td>\n",
       "      <td>1</td>\n",
       "      <td>Mount Maunganui</td>\n",
       "      <td>4</td>\n",
       "      <td>4</td>\n",
       "      <td>0</td>\n",
       "      <td>4</td>\n",
       "      <td>116</td>\n",
       "      <td>9</td>\n",
       "      <td>6.0</td>\n",
       "      <td>NaN</td>\n",
       "    </tr>\n",
       "    <tr>\n",
       "      <th>4</th>\n",
       "      <td>22</td>\n",
       "      <td>195</td>\n",
       "      <td>New Zealand</td>\n",
       "      <td>Bangladesh</td>\n",
       "      <td>0.5</td>\n",
       "      <td>0</td>\n",
       "      <td>1</td>\n",
       "      <td>Mount Maunganui</td>\n",
       "      <td>4</td>\n",
       "      <td>5</td>\n",
       "      <td>0</td>\n",
       "      <td>5</td>\n",
       "      <td>115</td>\n",
       "      <td>9</td>\n",
       "      <td>4.8</td>\n",
       "      <td>NaN</td>\n",
       "    </tr>\n",
       "  </tbody>\n",
       "</table>\n",
       "</div>"
      ],
      "text/plain": [
       "   match_id  runs_x batting_team bowling_team  ball  runs_y  player_dismissed  \\\n",
       "0        22     195  New Zealand   Bangladesh   0.1       0                 1   \n",
       "1        22     195  New Zealand   Bangladesh   0.2       3                 1   \n",
       "2        22     195  New Zealand   Bangladesh   0.3       1                 1   \n",
       "3        22     195  New Zealand   Bangladesh   0.4       0                 1   \n",
       "4        22     195  New Zealand   Bangladesh   0.5       0                 1   \n",
       "\n",
       "              city  Current_score ball_no over  balls_bowled  balls_left  \\\n",
       "0  Mount Maunganui              0       1    0             1         119   \n",
       "1  Mount Maunganui              3       2    0             2         118   \n",
       "2  Mount Maunganui              4       3    0             3         117   \n",
       "3  Mount Maunganui              4       4    0             4         116   \n",
       "4  Mount Maunganui              4       5    0             5         115   \n",
       "\n",
       "   wickets_left  curr  last_five  \n",
       "0             9   0.0        NaN  \n",
       "1             9   9.0        NaN  \n",
       "2             9   8.0        NaN  \n",
       "3             9   6.0        NaN  \n",
       "4             9   4.8        NaN  "
      ]
     },
     "execution_count": 359,
     "metadata": {},
     "output_type": "execute_result"
    }
   ],
   "source": [
    "final_df.head()"
   ]
  },
  {
   "cell_type": "code",
   "execution_count": 360,
   "id": "966ef509-cf9e-4615-89cf-10b00d0b8e4d",
   "metadata": {},
   "outputs": [],
   "source": [
    "#keeping the right feature\n",
    "final_df=final_df[['batting_team','bowling_team','city','Current_score','balls_left','wickets_left','curr','last_five','runs_x']]"
   ]
  },
  {
   "cell_type": "code",
   "execution_count": 361,
   "id": "9b2eb602-60e4-4b7e-8b80-a03ae70ac53e",
   "metadata": {},
   "outputs": [
    {
     "data": {
      "text/plain": [
       "batting_team        0\n",
       "bowling_team        0\n",
       "city                0\n",
       "Current_score       0\n",
       "balls_left          0\n",
       "wickets_left        0\n",
       "curr                0\n",
       "last_five        9414\n",
       "runs_x              0\n",
       "dtype: int64"
      ]
     },
     "execution_count": 361,
     "metadata": {},
     "output_type": "execute_result"
    }
   ],
   "source": [
    "final_df.isnull().sum()"
   ]
  },
  {
   "cell_type": "code",
   "execution_count": 362,
   "id": "4adff14b-7155-4c8c-a429-fe0e09a129a9",
   "metadata": {},
   "outputs": [
    {
     "name": "stderr",
     "output_type": "stream",
     "text": [
      "C:\\Users\\bibhu\\AppData\\Local\\Temp\\ipykernel_16812\\2709626079.py:1: SettingWithCopyWarning: \n",
      "A value is trying to be set on a copy of a slice from a DataFrame\n",
      "\n",
      "See the caveats in the documentation: https://pandas.pydata.org/pandas-docs/stable/user_guide/indexing.html#returning-a-view-versus-a-copy\n",
      "  final_df.dropna(inplace=True)\n"
     ]
    }
   ],
   "source": [
    "final_df.dropna(inplace=True)"
   ]
  },
  {
   "cell_type": "code",
   "execution_count": 363,
   "id": "42a2cd6d-ca6c-4541-848f-81cc62aa414c",
   "metadata": {},
   "outputs": [
    {
     "data": {
      "text/plain": [
       "batting_team     0\n",
       "bowling_team     0\n",
       "city             0\n",
       "Current_score    0\n",
       "balls_left       0\n",
       "wickets_left     0\n",
       "curr             0\n",
       "last_five        0\n",
       "runs_x           0\n",
       "dtype: int64"
      ]
     },
     "execution_count": 363,
     "metadata": {},
     "output_type": "execute_result"
    }
   ],
   "source": [
    "final_df.isnull().sum()"
   ]
  },
  {
   "cell_type": "code",
   "execution_count": 364,
   "id": "119d26ae-b06c-4e61-84f6-fd285384c246",
   "metadata": {},
   "outputs": [],
   "source": [
    "#shuffling the data to avoid any bias in the data\n",
    "final_df=final_df.sample(final_df.shape[0])"
   ]
  },
  {
   "cell_type": "markdown",
   "id": "dc00ffb4-c37b-4631-bf8a-8a5435119f83",
   "metadata": {},
   "source": [
    "# Model Building"
   ]
  },
  {
   "cell_type": "code",
   "execution_count": 365,
   "id": "2e23c7e3-dc0e-4db8-b3b4-e0f801199152",
   "metadata": {},
   "outputs": [],
   "source": [
    "#libraries\n",
    "from sklearn.model_selection import train_test_split\n",
    "from sklearn.compose import ColumnTransformer\n",
    "from sklearn.preprocessing import OneHotEncoder\n",
    "from sklearn.pipeline import Pipeline\n",
    "from sklearn.preprocessing import StandardScaler\n",
    "from sklearn.ensemble import  RandomForestRegressor\n",
    "from xgboost import XGBRegressor\n",
    "from sklearn.metrics import r2_score,mean_absolute_error"
   ]
  },
  {
   "cell_type": "code",
   "execution_count": 366,
   "id": "a269f7f2-66b3-45f8-880d-5df691c4b7f5",
   "metadata": {},
   "outputs": [],
   "source": [
    "X=final_df.drop(columns=['runs_x'])\n",
    "y=final_df['runs_x']"
   ]
  },
  {
   "cell_type": "code",
   "execution_count": 367,
   "id": "b484bd12-d467-41d4-bd88-a0000b1c9123",
   "metadata": {},
   "outputs": [],
   "source": [
    "xtrain,xtest,ytrain,ytest=train_test_split(X,y,test_size=.2,random_state=42)"
   ]
  },
  {
   "cell_type": "code",
   "execution_count": 368,
   "id": "48453d0a-6ec7-42c9-b0ea-592a38eebbf7",
   "metadata": {},
   "outputs": [
    {
     "data": {
      "text/plain": [
       "(23984, 8)"
      ]
     },
     "execution_count": 368,
     "metadata": {},
     "output_type": "execute_result"
    }
   ],
   "source": [
    "xtrain.shape"
   ]
  },
  {
   "cell_type": "code",
   "execution_count": 378,
   "id": "92d2acad-640c-48be-8d29-575287bb8da0",
   "metadata": {},
   "outputs": [
    {
     "data": {
      "text/html": [
       "<div>\n",
       "<style scoped>\n",
       "    .dataframe tbody tr th:only-of-type {\n",
       "        vertical-align: middle;\n",
       "    }\n",
       "\n",
       "    .dataframe tbody tr th {\n",
       "        vertical-align: top;\n",
       "    }\n",
       "\n",
       "    .dataframe thead th {\n",
       "        text-align: right;\n",
       "    }\n",
       "</style>\n",
       "<table border=\"1\" class=\"dataframe\">\n",
       "  <thead>\n",
       "    <tr style=\"text-align: right;\">\n",
       "      <th></th>\n",
       "      <th>batting_team</th>\n",
       "      <th>bowling_team</th>\n",
       "      <th>city</th>\n",
       "      <th>Current_score</th>\n",
       "      <th>balls_left</th>\n",
       "      <th>wickets_left</th>\n",
       "      <th>curr</th>\n",
       "      <th>last_five</th>\n",
       "    </tr>\n",
       "  </thead>\n",
       "  <tbody>\n",
       "    <tr>\n",
       "      <th>26657</th>\n",
       "      <td>Pakistan</td>\n",
       "      <td>New Zealand</td>\n",
       "      <td>Pallekele</td>\n",
       "      <td>91</td>\n",
       "      <td>61</td>\n",
       "      <td>9</td>\n",
       "      <td>9.254237</td>\n",
       "      <td>50.0</td>\n",
       "    </tr>\n",
       "    <tr>\n",
       "      <th>9955</th>\n",
       "      <td>Pakistan</td>\n",
       "      <td>England</td>\n",
       "      <td>Manchester</td>\n",
       "      <td>37</td>\n",
       "      <td>90</td>\n",
       "      <td>8</td>\n",
       "      <td>7.400000</td>\n",
       "      <td>37.0</td>\n",
       "    </tr>\n",
       "    <tr>\n",
       "      <th>14853</th>\n",
       "      <td>New Zealand</td>\n",
       "      <td>England</td>\n",
       "      <td>Manchester</td>\n",
       "      <td>79</td>\n",
       "      <td>33</td>\n",
       "      <td>5</td>\n",
       "      <td>5.448276</td>\n",
       "      <td>27.0</td>\n",
       "    </tr>\n",
       "    <tr>\n",
       "      <th>7884</th>\n",
       "      <td>Australia</td>\n",
       "      <td>South Africa</td>\n",
       "      <td>Cape Town</td>\n",
       "      <td>154</td>\n",
       "      <td>20</td>\n",
       "      <td>7</td>\n",
       "      <td>9.240000</td>\n",
       "      <td>34.0</td>\n",
       "    </tr>\n",
       "    <tr>\n",
       "      <th>18107</th>\n",
       "      <td>Pakistan</td>\n",
       "      <td>Ireland</td>\n",
       "      <td>London</td>\n",
       "      <td>156</td>\n",
       "      <td>2</td>\n",
       "      <td>5</td>\n",
       "      <td>7.932203</td>\n",
       "      <td>42.0</td>\n",
       "    </tr>\n",
       "    <tr>\n",
       "      <th>...</th>\n",
       "      <td>...</td>\n",
       "      <td>...</td>\n",
       "      <td>...</td>\n",
       "      <td>...</td>\n",
       "      <td>...</td>\n",
       "      <td>...</td>\n",
       "      <td>...</td>\n",
       "      <td>...</td>\n",
       "    </tr>\n",
       "    <tr>\n",
       "      <th>26797</th>\n",
       "      <td>India</td>\n",
       "      <td>England</td>\n",
       "      <td>Colombo</td>\n",
       "      <td>91</td>\n",
       "      <td>48</td>\n",
       "      <td>8</td>\n",
       "      <td>7.583333</td>\n",
       "      <td>33.0</td>\n",
       "    </tr>\n",
       "    <tr>\n",
       "      <th>4285</th>\n",
       "      <td>India</td>\n",
       "      <td>South Africa</td>\n",
       "      <td>Johannesburg</td>\n",
       "      <td>156</td>\n",
       "      <td>30</td>\n",
       "      <td>6</td>\n",
       "      <td>10.400000</td>\n",
       "      <td>46.0</td>\n",
       "    </tr>\n",
       "    <tr>\n",
       "      <th>22077</th>\n",
       "      <td>Pakistan</td>\n",
       "      <td>England</td>\n",
       "      <td>Cardiff</td>\n",
       "      <td>49</td>\n",
       "      <td>82</td>\n",
       "      <td>9</td>\n",
       "      <td>7.736842</td>\n",
       "      <td>36.0</td>\n",
       "    </tr>\n",
       "    <tr>\n",
       "      <th>16484</th>\n",
       "      <td>Australia</td>\n",
       "      <td>West Indies</td>\n",
       "      <td>London</td>\n",
       "      <td>100</td>\n",
       "      <td>38</td>\n",
       "      <td>6</td>\n",
       "      <td>7.317073</td>\n",
       "      <td>46.0</td>\n",
       "    </tr>\n",
       "    <tr>\n",
       "      <th>11265</th>\n",
       "      <td>South Africa</td>\n",
       "      <td>England</td>\n",
       "      <td>Cape Town</td>\n",
       "      <td>130</td>\n",
       "      <td>27</td>\n",
       "      <td>7</td>\n",
       "      <td>8.387097</td>\n",
       "      <td>40.0</td>\n",
       "    </tr>\n",
       "  </tbody>\n",
       "</table>\n",
       "<p>5997 rows × 8 columns</p>\n",
       "</div>"
      ],
      "text/plain": [
       "       batting_team  bowling_team          city  Current_score  balls_left  \\\n",
       "26657      Pakistan   New Zealand     Pallekele             91          61   \n",
       "9955       Pakistan       England    Manchester             37          90   \n",
       "14853   New Zealand       England    Manchester             79          33   \n",
       "7884      Australia  South Africa     Cape Town            154          20   \n",
       "18107      Pakistan       Ireland        London            156           2   \n",
       "...             ...           ...           ...            ...         ...   \n",
       "26797         India       England       Colombo             91          48   \n",
       "4285          India  South Africa  Johannesburg            156          30   \n",
       "22077      Pakistan       England       Cardiff             49          82   \n",
       "16484     Australia   West Indies        London            100          38   \n",
       "11265  South Africa       England     Cape Town            130          27   \n",
       "\n",
       "       wickets_left       curr  last_five  \n",
       "26657             9   9.254237       50.0  \n",
       "9955              8   7.400000       37.0  \n",
       "14853             5   5.448276       27.0  \n",
       "7884              7   9.240000       34.0  \n",
       "18107             5   7.932203       42.0  \n",
       "...             ...        ...        ...  \n",
       "26797             8   7.583333       33.0  \n",
       "4285              6  10.400000       46.0  \n",
       "22077             9   7.736842       36.0  \n",
       "16484             6   7.317073       46.0  \n",
       "11265             7   8.387097       40.0  \n",
       "\n",
       "[5997 rows x 8 columns]"
      ]
     },
     "execution_count": 378,
     "metadata": {},
     "output_type": "execute_result"
    }
   ],
   "source": [
    "xtest"
   ]
  },
  {
   "cell_type": "code",
   "execution_count": 383,
   "id": "c8e2bb4a-bea1-423c-ae3e-752f9f488435",
   "metadata": {},
   "outputs": [],
   "source": [
    "trf=ColumnTransformer([\n",
    "    ('trf',OneHotEncoder(sparse_output=False,drop='first'),['batting_team','bowling_team','city'])\n",
    "],remainder='passthrough')\n"
   ]
  },
  {
   "cell_type": "code",
   "execution_count": 384,
   "id": "638bb4a7-8b80-4c4b-aea7-ec4eb4043041",
   "metadata": {},
   "outputs": [],
   "source": [
    "pipe=Pipeline(steps=[\n",
    "    ('step1',trf),\n",
    "    ('step2',StandardScaler()),\n",
    "    ('step3',XGBRegressor(n_estimators=1000,learning_rate=.2,max_depth=12,random_state=1))\n",
    "])"
   ]
  },
  {
   "cell_type": "code",
   "execution_count": 385,
   "id": "5fe09d5d-ffa8-4067-b5b9-5c5cb7a026da",
   "metadata": {},
   "outputs": [
    {
     "name": "stdout",
     "output_type": "stream",
     "text": [
      "r2_score: 0.9875422306038281\n",
      "MAE: 1.613898906545558\n"
     ]
    }
   ],
   "source": [
    "pipe.fit(xtrain,ytrain)\n",
    "y_pred=pipe.predict(xtest)\n",
    "print('r2_score:',r2_score(ytest,y_pred))\n",
    "print('MAE:',mean_absolute_error(ytest,y_pred))\n"
   ]
  },
  {
   "cell_type": "code",
   "execution_count": 386,
   "id": "970d6098-7db0-4eab-81dc-bc12b4af9e5d",
   "metadata": {},
   "outputs": [],
   "source": [
    "pickle.dump(pipe,open('pipe.pkl','wb'))"
   ]
  },
  {
   "cell_type": "code",
   "execution_count": null,
   "id": "094f7916-c2ea-4dfd-b58a-96ebf72b0617",
   "metadata": {},
   "outputs": [],
   "source": []
  },
  {
   "cell_type": "code",
   "execution_count": null,
   "id": "e58eb71e-72fb-4ed9-a804-250fee319f56",
   "metadata": {},
   "outputs": [],
   "source": []
  },
  {
   "cell_type": "code",
   "execution_count": null,
   "id": "a5db94a7-242c-4b3c-bd98-f95639fe997f",
   "metadata": {},
   "outputs": [],
   "source": []
  }
 ],
 "metadata": {
  "kernelspec": {
   "display_name": "Python 3 (ipykernel)",
   "language": "python",
   "name": "python3"
  },
  "language_info": {
   "codemirror_mode": {
    "name": "ipython",
    "version": 3
   },
   "file_extension": ".py",
   "mimetype": "text/x-python",
   "name": "python",
   "nbconvert_exporter": "python",
   "pygments_lexer": "ipython3",
   "version": "3.12.3"
  }
 },
 "nbformat": 4,
 "nbformat_minor": 5
}
